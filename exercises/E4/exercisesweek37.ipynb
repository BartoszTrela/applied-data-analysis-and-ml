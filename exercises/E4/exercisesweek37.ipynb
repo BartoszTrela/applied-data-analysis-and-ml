{
 "cells": [
  {
   "cell_type": "markdown",
   "id": "8e6632a0",
   "metadata": {
    "editable": true
   },
   "source": [
    "<!-- HTML file automatically generated from DocOnce source (https://github.com/doconce/doconce/)\n",
    "doconce format html exercisesweek37.do.txt  -->\n",
    "<!-- dom:TITLE: Exercises week 37 -->"
   ]
  },
  {
   "cell_type": "markdown",
   "id": "82705c4f",
   "metadata": {
    "editable": true
   },
   "source": [
    "# Exercises week 37\n",
    "**Implementing gradient descent for Ridge and ordinary Least Squares Regression**\n",
    "\n",
    "Date: **September 8-12, 2025**"
   ]
  },
  {
   "cell_type": "markdown",
   "id": "921bf331",
   "metadata": {
    "editable": true
   },
   "source": [
    "## Learning goals\n",
    "\n",
    "After having completed these exercises you will have:\n",
    "1. Your own code for the implementation of the simplest gradient descent approach applied to ordinary least squares (OLS) and Ridge regression\n",
    "\n",
    "2. Be able to compare the analytical expressions for OLS and Ridge regression with the gradient descent approach\n",
    "\n",
    "3. Explore the role of the learning rate in the gradient descent approach and the hyperparameter $\\lambda$ in Ridge regression\n",
    "\n",
    "4. Scale the data properly"
   ]
  },
  {
   "cell_type": "markdown",
   "id": "adff65d5",
   "metadata": {
    "editable": true
   },
   "source": [
    "## Simple one-dimensional second-order polynomial\n",
    "\n",
    "We start with a very simple function"
   ]
  },
  {
   "cell_type": "markdown",
   "id": "70418b3d",
   "metadata": {
    "editable": true
   },
   "source": [
    "$$\n",
    "f(x)= 2-x+5x^2,\n",
    "$$"
   ]
  },
  {
   "cell_type": "markdown",
   "id": "11a3cf73",
   "metadata": {
    "editable": true
   },
   "source": [
    "defined for $x\\in [-2,2]$. You can add noise if you wish. \n",
    "\n",
    "We are going to fit this function with a polynomial ansatz. The easiest thing is to set up a second-order polynomial and see if you can fit the above function.\n",
    "Feel free to play around with higher-order polynomials."
   ]
  },
  {
   "cell_type": "markdown",
   "id": "04a06b51",
   "metadata": {
    "editable": true
   },
   "source": [
    "## Exercise 1, scale your data\n",
    "\n",
    "Before fitting a regression model, it is good practice to normalize or\n",
    "standardize the features. This ensures all features are on a\n",
    "comparable scale, which is especially important when using\n",
    "regularization. Here we will perform standardization, scaling each\n",
    "feature to have mean 0 and standard deviation 1."
   ]
  },
  {
   "cell_type": "markdown",
   "id": "408db3d9",
   "metadata": {
    "editable": true
   },
   "source": [
    "### 1a)\n",
    "\n",
    "Compute the mean and standard deviation of each column (feature) in your design/feature matrix $\\boldsymbol{X}$.\n",
    "Subtract the mean and divide by the standard deviation for each feature.\n",
    "\n",
    "We will also center the target $\\boldsymbol{y}$ to mean $0$. Centering $\\boldsymbol{y}$\n",
    "(and each feature) means the model does not require a separate intercept\n",
    "term, the data is shifted such that the intercept is effectively 0\n",
    ". (In practice, one could include an intercept in the model and not\n",
    "penalize it, but here we simplify by centering.)\n",
    "Choose $n=100$ data points and set up $\\boldsymbol{x}, $\\boldsymbol{y}$ and the design matrix $\\boldsymbol{X}$."
   ]
  },
  {
   "cell_type": "code",
   "execution_count": 85,
   "id": "2ebb0a2b",
   "metadata": {},
   "outputs": [],
   "source": [
    "import numpy as np\n",
    "\n",
    "def polynomial_features(x, p, intercept=False):\n",
    "    n = len(x)\n",
    "    if intercept:\n",
    "        X = np.zeros((n, p + 1))\n",
    "        for i in range(p + 1):\n",
    "            X[:, i] = x**i\n",
    "    else:\n",
    "        X = np.zeros((n, p))\n",
    "        for i in range(1, p + 1):\n",
    "            X[:, i - 1] = x**i\n",
    "    return X"
   ]
  },
  {
   "cell_type": "code",
   "execution_count": 86,
   "id": "b1c859fd",
   "metadata": {},
   "outputs": [],
   "source": [
    "n_features = 3\n",
    "x = np.linspace(-3, 3, 100)\n",
    "y = np.exp(-x**2) + 1.5 * np.exp(-(x-2)**2) + np.random.normal(0, 0.1)\n",
    "\n",
    "X = polynomial_features(x, n_features)"
   ]
  },
  {
   "cell_type": "code",
   "execution_count": 87,
   "id": "37fb732c",
   "metadata": {
    "collapsed": false,
    "editable": true
   },
   "outputs": [],
   "source": [
    "# Standardize features (zero mean, unit variance for each feature)\n",
    "X_mean = X.mean(axis=0)\n",
    "X_std = X.std(axis=0)\n",
    "X_std[X_std == 0] = 1  # safeguard to avoid division by zero for constant features\n",
    "X_norm = (X - X_mean) / X_std\n",
    "\n",
    "# Center the target to zero mean (optional, to simplify intercept handling)\n",
    "y_mean = y.mean()\n",
    "y_centered = y - y_mean"
   ]
  },
  {
   "cell_type": "markdown",
   "id": "d861e1e3",
   "metadata": {
    "editable": true
   },
   "source": [
    "Fill in the necessary details. Do we need to center the $y$-values? \n",
    "\n",
    "A: We do not need to center the $y$-values. But since I am not fitting the intercept in my model, I will use the centered y-values in order to get more interpretable results.\n",
    "\n",
    "After this preprocessing, each column of $\\boldsymbol{X}_{\\mathrm{norm}}$ has mean zero and standard deviation $1$\n",
    "and $\\boldsymbol{y}_{\\mathrm{centered}}$ has mean 0. This makes the optimization landscape\n",
    "nicer and ensures the regularization penalty $\\lambda \\sum_j\n",
    "\\theta_j^2$ in Ridge regression treats each coefficient fairly (since features are on the\n",
    "same scale)."
   ]
  },
  {
   "cell_type": "markdown",
   "id": "b3e774d0",
   "metadata": {
    "editable": true
   },
   "source": [
    "## Exercise 2, calculate the gradients\n",
    "\n",
    "Find the gradients for OLS and Ridge regression using the mean-squared error as cost/loss function."
   ]
  },
  {
   "cell_type": "markdown",
   "id": "d5dc7708",
   "metadata": {
    "editable": true
   },
   "source": [
    "## Exercise 3, using the analytical formulae for OLS and Ridge regression to find the optimal paramters $\\boldsymbol{\\theta}$"
   ]
  },
  {
   "cell_type": "code",
   "execution_count": 88,
   "id": "4c9c86ac",
   "metadata": {
    "collapsed": false,
    "editable": true
   },
   "outputs": [
    {
     "name": "stdout",
     "output_type": "stream",
     "text": [
      "Closed-form Ridge coefficients [lambda=0.1]: [ 0.78130657 -0.13815779 -0.37246822]\n",
      "Closed-form OLS coefficients:                [ 0.78832838 -0.13829594 -0.37927671]\n"
     ]
    },
    {
     "data": {
      "image/png": "[encoded data removed]",
      "text/plain": [
       "<Figure size 1200x600 with 1 Axes>"
      ]
     },
     "metadata": {},
     "output_type": "display_data"
    }
   ],
   "source": [
    "# Set regularization parameter, either a single value or a vector of values\n",
    "# Note that lambda is a python keyword. The lambda keyword is used to create small, single-expression functions without a formal name. These are often called \"anonymous functions\" or \"lambda functions.\"\n",
    "\n",
    "lam = 0.1\n",
    "# Analytical form for OLS and Ridge solution: theta_Ridge = (X^T X + lambda * I)^{-1} X^T y and theta_OLS = (X^T X)^{-1} X^T y\n",
    "I = np.eye(X.shape[1])\n",
    "theta_closed_formRidge = np.linalg.inv(X_norm.T @ X_norm + lam*I) @ X_norm.T @ y_centered\n",
    "theta_closed_formOLS = np.linalg.inv(X_norm.T @ X_norm) @ X_norm.T @ y_centered\n",
    "\n",
    "print(f\"Closed-form Ridge coefficients [lambda={lam}]:\", theta_closed_formRidge)\n",
    "print(\"Closed-form OLS coefficients:               \", theta_closed_formOLS)\n",
    "\n",
    "# Plotting the results\n",
    "import matplotlib.pyplot as plt\n",
    "\n",
    "plt.figure(figsize=(12, 6))\n",
    "\n",
    "plt.subplot(1, 2, 1)\n",
    "plt.scatter(x, y, color='lightgray', label='Data')\n",
    "\n",
    "x_fit = np.linspace(-3, 3, 200)\n",
    "X_fit = polynomial_features(x_fit, 3)\n",
    "X_fit_norm = (X_fit - X_mean) / X_std\n",
    "\n",
    "lambdas = [0.001, 0.1, 2, 4, 8]\n",
    "colors = ['blue', 'green', 'orange', 'purple', 'brown']\n",
    "\n",
    "for lam, color in zip(lambdas, colors):\n",
    "    theta_ridge = np.linalg.inv(X_norm.T @ X_norm + lam*I) @ X_norm.T @ y_centered\n",
    "    y_fit_ridge = X_fit_norm @ theta_ridge + y_mean\n",
    "    plt.plot(x_fit, y_fit_ridge, label=f'Ridge Fit (λ={lam})', color=color)\n",
    "\n",
    "plt.title('Ridge Regression Fits for Different λ')\n",
    "plt.xlabel('x')\n",
    "plt.ylabel('y')\n",
    "plt.legend()\n",
    "plt.grid()"
   ]
  },
  {
   "cell_type": "markdown",
   "id": "eeae00fd",
   "metadata": {
    "editable": true
   },
   "source": [
    "This computes the Ridge and OLS regression coefficients directly. The identity\n",
    "matrix $I$ has the same size as $X^T X$. It adds $\\lambda$ to the diagonal of $X^T X$ for Ridge regression. We\n",
    "then invert this matrix and multiply by $X^T y$. The result\n",
    "for $\\boldsymbol{\\theta}$  is a NumPy array of shape (n$\\_$features,) containing the\n",
    "fitted parameters $\\boldsymbol{\\theta}$."
   ]
  },
  {
   "cell_type": "markdown",
   "id": "e1c215d5",
   "metadata": {
    "editable": true
   },
   "source": [
    "### 3a)\n",
    "\n",
    "Finalize, in the above code, the OLS and Ridge regression determination of the optimal parameters $\\boldsymbol{\\theta}$."
   ]
  },
  {
   "cell_type": "markdown",
   "id": "587dd3dc",
   "metadata": {
    "editable": true
   },
   "source": [
    "### 3b)\n",
    "\n",
    "Explore the results as function of different values of the hyperparameter $\\lambda$. See for example exercise 4 from week 36."
   ]
  },
  {
   "cell_type": "markdown",
   "id": "bfa34697",
   "metadata": {
    "editable": true
   },
   "source": [
    "## Exercise 4, Implementing the simplest form for gradient descent\n",
    "\n",
    "Alternatively, we can fit the ridge regression model using gradient\n",
    "descent. This is useful to visualize the iterative convergence and is\n",
    "necessary if $n$ and $p$ are so large that the closed-form might be\n",
    "too slow or memory-intensive. We derive the gradients from the cost\n",
    "functions defined above. Use the gradients of the Ridge and OLS cost functions with respect to\n",
    "the parameters  $\\boldsymbol{\\theta}$ and set up (using the template below) your own gradient descent code for OLS and Ridge regression.\n",
    "\n",
    "Below is a template code for gradient descent implementation of ridge:"
   ]
  },
  {
   "cell_type": "code",
   "execution_count": 89,
   "id": "49245f55",
   "metadata": {
    "collapsed": false,
    "editable": true
   },
   "outputs": [
    {
     "name": "stdout",
     "output_type": "stream",
     "text": [
      "Gradient Descent OLS coefficients: [ 0.67827685 -0.13829594 -0.26922519]\n",
      "Gradient Descent Ridge coefficients: [ 0.64432182 -0.13692668 -0.23739336]\n"
     ]
    }
   ],
   "source": [
    "def gradient_descent_ols_ridge(X_norm, y_centered, lam=0.1, eta=0.01, num_iters=10000, tol=1e-8, verbose=False):\n",
    "    \"\"\"\n",
    "    Performs gradient descent for OLS and Ridge regression.\n",
    "    Returns: theta_gdOLS, theta_gdRidge\n",
    "    \"\"\"\n",
    "    n_features = X_norm.shape[1]\n",
    "    theta = np.zeros(n_features)\n",
    "    theta_gdOLS = theta.copy()\n",
    "    theta_gdRidge = theta.copy()\n",
    "    theta_ridge_prev = theta.copy()\n",
    "    n = X_norm.shape[0]\n",
    "\n",
    "    for t in range(num_iters):\n",
    "        # Compute gradients for OLS and Ridge\n",
    "        grad_OLS = 2.0/n * X_norm.T @ (X_norm @ theta_gdOLS - y_centered)\n",
    "        grad_Ridge = 2.0/n * X_norm.T @ (X_norm @ theta_gdRidge - y_centered) + 2 * lam * theta_gdRidge\n",
    "\n",
    "        # Update parameters theta\n",
    "        theta_gdOLS = theta_gdOLS - eta * grad_OLS\n",
    "        theta_gdRidge = theta_gdRidge - eta * grad_Ridge\n",
    "\n",
    "        theta_diff = np.linalg.norm(theta_gdRidge - theta_ridge_prev, ord=2)\n",
    "        if theta_diff < tol:\n",
    "            if verbose:\n",
    "                print(f\"Converged after {t+1} iterations.\")\n",
    "            break\n",
    "        theta_ridge_prev = theta_gdRidge.copy()\n",
    "\n",
    "    return theta_gdOLS, theta_gdRidge\n",
    "\n",
    "# Gradient descent parameters, learning rate eta first\n",
    "eta = 0.001\n",
    "\n",
    "# Regularization parameter lambda\n",
    "lam = 0.01\n",
    "# Then number of iterations\n",
    "num_iters = 10000\n",
    "\n",
    "# After the loop, theta contains the fitted coefficients\n",
    "theta_gdOLS, theta_gdRidge = gradient_descent_ols_ridge(X_norm, y_centered, verbose=True, lam=lam, eta=eta, num_iters=num_iters)\n",
    "print(\"Gradient Descent OLS coefficients:\", theta_gdOLS)\n",
    "print(\"Gradient Descent Ridge coefficients:\", theta_gdRidge)"
   ]
  },
  {
   "cell_type": "markdown",
   "id": "f3f43f2c",
   "metadata": {
    "editable": true
   },
   "source": [
    "### 4a)\n",
    "\n",
    "Write first a gradient descent code for OLS only using the above template.\n",
    "Discuss the results as function of the learning rate parameters and the number of iterations"
   ]
  },
  {
   "cell_type": "markdown",
   "id": "9ba303be",
   "metadata": {
    "editable": true
   },
   "source": [
    "### 4b)\n",
    "\n",
    "Write then a similar code for Ridge regression using the above template.\n",
    "Try to add a stopping parameter as function of the number iterations and the difference between the new and old $\\theta$ values. How would you define a stopping criterion?"
   ]
  },
  {
   "cell_type": "markdown",
   "id": "78362c6c",
   "metadata": {
    "editable": true
   },
   "source": [
    "## Exercise 5, Ridge regression and a new Synthetic Dataset\n",
    "\n",
    "We create a synthetic linear regression dataset with a sparse\n",
    "underlying relationship. This means we have many features but only a\n",
    "few of them actually contribute to the target. In our example, we’ll\n",
    "use 10 features with only 3 non-zero weights in the true model. This\n",
    "way, the target is generated as a linear combination of a few features\n",
    "(with known coefficients) plus some random noise. The steps we include are:\n",
    "\n",
    "Decide on the number of samples and features (e.g. 100 samples, 10 features).\n",
    "Define the **true** coefficient vector with mostly zeros (for sparsity). For example, we set $\\hat{\\boldsymbol{\\theta}} = [5.0, -3.0, 0.0, 0.0, 0.0, 0.0, 2.0, 0.0, 0.0, 0.0]$, meaning only features 0, 1, and 6 have a real effect on y.\n",
    "\n",
    "Then we sample feature values for $\\boldsymbol{X}$ randomly (e.g. from a normal distribution). We use a normal distribution so features are roughly centered around 0.\n",
    "Then we compute the target values $y$ using the linear combination $\\boldsymbol{X}\\hat{\\boldsymbol{\\theta}}$ and add some noise (to simulate measurement error or unexplained variance).\n",
    "\n",
    "Below is the code to generate the dataset:"
   ]
  },
  {
   "cell_type": "code",
   "execution_count": 90,
   "id": "8be1cebe",
   "metadata": {
    "collapsed": false,
    "editable": true
   },
   "outputs": [],
   "source": [
    "import numpy as np\n",
    "\n",
    "# Set random seed for reproducibility\n",
    "np.random.seed(42)\n",
    "\n",
    "# Define dataset size\n",
    "n_samples = 100\n",
    "n_features = 10\n",
    "\n",
    "# Define true coefficients (sparse linear relationship)\n",
    "theta_true = np.array([5.0, -3.0, 0.0, 0.0, 0.0, 0.0, 2.0, 0.0, 0.0, 0.0])\n",
    "\n",
    "# Generate feature matrix X (n_samples x n_features) with random values\n",
    "X = np.random.randn(n_samples, n_features)  # standard normal distribution\n",
    "\n",
    "# Generate target values y with a linear combination of X and theta_true, plus noise\n",
    "noise = 0.5 * np.random.randn(n_samples)    # Gaussian noise\n",
    "y = X @ theta_true + noise"
   ]
  },
  {
   "cell_type": "markdown",
   "id": "e2693666",
   "metadata": {
    "editable": true
   },
   "source": [
    "This code produces a dataset where only features 0, 1, and 6\n",
    "significantly influence $\\boldsymbol{y}$. The rest of the features have zero true\n",
    "coefficient. For example, feature 0 has\n",
    "a true weight of 5.0, feature 1 has -3.0, and feature 6 has 2.0, so\n",
    "the expected relationship is:"
   ]
  },
  {
   "cell_type": "markdown",
   "id": "bc954d12",
   "metadata": {
    "editable": true
   },
   "source": [
    "$$\n",
    "y \\approx 5 \\times x_0 \\;-\\; 3 \\times x_1 \\;+\\; 2 \\times x_6 \\;+\\; \\text{noise}.\n",
    "$$"
   ]
  },
  {
   "cell_type": "markdown",
   "id": "6534b610",
   "metadata": {
    "editable": true
   },
   "source": [
    "You can remove the noise if you wish to. \n",
    "\n",
    "Try to fit the above data set using OLS and Ridge regression with the analytical expressions and your own gradient descent codes.\n",
    "\n",
    "If everything worked correctly, the learned coefficients should be\n",
    "close to the true values [5.0, -3.0, 0.0, …, 2.0, …] that we used to\n",
    "generate the data. Keep in mind that due to regularization and noise,\n",
    "the learned values will not exactly equal the true ones, but they\n",
    "should be in the same ballpark.  Which method (OLS or Ridge) gives the best results?"
   ]
  },
  {
   "cell_type": "code",
   "execution_count": 91,
   "id": "84bdeaab",
   "metadata": {},
   "outputs": [
    {
     "name": "stdout",
     "output_type": "stream",
     "text": [
      "Closed-form Ridge coefficients: [ 4.95487593e+00 -3.02622945e+00 -1.61654169e-02  2.23708552e-02\n",
      " -6.07631056e-02  3.17328476e-02  1.89867203e+00  1.87237413e-03\n",
      "  2.37702036e-02 -2.83298495e-02]\n",
      "Closed-form OLS coefficients: [ 4.95551414e+00 -3.02647494e+00 -1.61933514e-02  2.23791979e-02\n",
      " -6.07172679e-02  3.16256420e-02  1.89884658e+00  1.84734523e-03\n",
      "  2.36337851e-02 -2.83627205e-02]\n",
      "Gradient Descent OLS coefficients: [ 4.95550542e+00 -3.02644696e+00 -1.61912822e-02  2.23529015e-02\n",
      " -6.07262096e-02  3.16450596e-02  1.89886518e+00  1.83292568e-03\n",
      "  2.36703142e-02 -2.83372538e-02]\n",
      "Gradient Descent Ridge coefficients: [ 4.89253636e+00 -3.00213782e+00 -1.34925344e-02  2.16005659e-02\n",
      " -6.51976953e-02  4.21090852e-02  1.88156497e+00  4.28827638e-03\n",
      "  3.69585866e-02 -2.51202897e-02]\n",
      "\n",
      "\n",
      "True coefficients: [ 5. -3.  0.  0.  0.  0.  2.  0.  0.  0.]\n",
      "\n",
      "Difference (Closed-form Ridge): 0.14079608320832068\n",
      "Difference (Closed-form OLS): 0.1404569725504609\n",
      "Difference (GD Ridge): 0.18511553934265196\n",
      "Difference (GD OLS): 0.14044570713557936\n"
     ]
    }
   ],
   "source": [
    "# Regularization parameter lambda\n",
    "lam = 0.01\n",
    "\n",
    "# Analytical form for OLS and Ridge solution: theta_Ridge = (X^T X + lambda * I)^{-1} X^T y and theta_OLS = (X^T X)^{-1} X^T y\n",
    "I = np.eye(X.shape[1])\n",
    "theta_closed_formRidge = np.linalg.inv(X.T @ X + lam*I) @ X.T @ y\n",
    "theta_closed_formOLS = np.linalg.inv(X.T @ X) @ X.T @ y\n",
    "\n",
    "print(f\"Closed-form Ridge coefficients:\", theta_closed_formRidge)\n",
    "print(\"Closed-form OLS coefficients:\", theta_closed_formOLS)\n",
    "\n",
    "# Gradient descent parameters, learning rate eta first\n",
    "eta = 0.001\n",
    "# Then number of iterations\n",
    "num_iters = 10000\n",
    "# After the loop, theta contains the fitted coefficients\n",
    "theta_gdOLS, theta_gdRidge = gradient_descent_ols_ridge(X, y, verbose=False, tol=1e-9, lam=lam, eta=eta, num_iters=num_iters)\n",
    "print(\"Gradient Descent OLS coefficients:\", theta_gdOLS)\n",
    "print(\"Gradient Descent Ridge coefficients:\", theta_gdRidge)\n",
    "\n",
    "# Compare estimated coefficients to true coefficients\n",
    "print(\"\\n\\nTrue coefficients:\", theta_true)\n",
    "# difference between estimated and true coefficients\n",
    "print(\"\\nDifference (Closed-form Ridge):\", np.linalg.norm(theta_closed_formRidge - theta_true))\n",
    "print(\"Difference (Closed-form OLS):\", np.linalg.norm(theta_closed_formOLS - theta_true))\n",
    "print(\"Difference (GD Ridge):\", np.linalg.norm(theta_gdRidge - theta_true))\n",
    "print(\"Difference (GD OLS):\", np.linalg.norm(theta_gdOLS - theta_true))\n",
    "\n"
   ]
  },
  {
   "cell_type": "markdown",
   "id": "a46b3a2a",
   "metadata": {},
   "source": [
    "In this case, OLS performed best. Specifically gradient descent performed marginally better than closed-form OLS. This is due to the underlying distribution of the data. Since the we know the distribution to be a linear expression, OLS is the right tool for this task. The reason that gradient descent permormed better than closed-form in this case is because of the added noise in the data. "
   ]
  },
  {
   "cell_type": "markdown",
   "id": "98b2b373",
   "metadata": {},
   "source": [
    "## References\n",
    "\n",
    "[1] M. P. Deisenroth, A. A. Faisal, and C. S. Ong, *Mathematics for Machine Learning*. Cambridge University Press, 2020.  \n",
    "\n",
    "[2] OpenAI, *ChatGPT*. Available: https://chat.openai.com/, 2025.\n",
    "\n",
    "[3] Hastie et al (https://github.com/CompPhysics/MLErasmus/blob/master/doc/Textbooks/elementsstat.pdf)"
   ]
  }
 ],
 "metadata": {
  "kernelspec": {
   "display_name": "fys-stk4155",
   "language": "python",
   "name": "python3"
  },
  "language_info": {
   "codemirror_mode": {
    "name": "ipython",
    "version": 3
   },
   "file_extension": ".py",
   "mimetype": "text/x-python",
   "name": "python",
   "nbconvert_exporter": "python",
   "pygments_lexer": "ipython3",
   "version": "3.8.20"
  }
 },
 "nbformat": 4,
 "nbformat_minor": 5
}
